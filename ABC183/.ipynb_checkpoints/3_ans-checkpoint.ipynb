{
 "cells": [
  {
   "cell_type": "code",
   "execution_count": null,
   "metadata": {},
   "outputs": [],
   "source": [
    "import itertools\n",
    "N,K=map(int,input().split())\n",
    "T=[list(map(int,input().split())) for _ in range(N)]\n",
    " \n",
    "nums = list(range(1,N))\n",
    "ans = 0\n",
    "for index in itertools.permutations(nums):\n",
    "    index = [0]+list(index)\n",
    "    ti = 0\n",
    "    for i in range(N):\n",
    "        ti+=T[index[i]][index[(i+1)%N]]\n",
    "    if ti==K:\n",
    "        ans+=1\n",
    "print(ans)"
   ]
  }
 ],
 "metadata": {
  "kernelspec": {
   "display_name": "Python 3",
   "language": "python",
   "name": "python3"
  },
  "language_info": {
   "codemirror_mode": {
    "name": "ipython",
    "version": 3
   },
   "file_extension": ".py",
   "mimetype": "text/x-python",
   "name": "python",
   "nbconvert_exporter": "python",
   "pygments_lexer": "ipython3",
   "version": "3.7.4"
  }
 },
 "nbformat": 4,
 "nbformat_minor": 4
}
