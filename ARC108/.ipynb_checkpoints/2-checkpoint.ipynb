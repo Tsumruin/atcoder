{
 "cells": [
  {
   "cell_type": "code",
   "execution_count": 6,
   "metadata": {},
   "outputs": [
    {
     "name": "stdin",
     "output_type": "stream",
     "text": [
      " 48\n",
      " ffoxoxuvgjyzmehmopfohrupffoxoxfofofoxffoxoxejffo\n"
     ]
    },
    {
     "name": "stdout",
     "output_type": "stream",
     "text": [
      "f\n",
      "\n",
      "uvgjyzmehmopfohrupf\n",
      "uvgjyzmehmopfohrup\n",
      "uvgjyzmehmopfohrupfofo\n",
      "uvgjyzmehmopfohrupfofof\n",
      "uvgjyzmehmopfohrupfofo\n",
      "27\n"
     ]
    }
   ],
   "source": [
    "N = input()\n",
    "x = input()\n",
    "tmp = \"\"\n",
    "for st in x:\n",
    "    tmp += st\n",
    "    if tmp[-3:] == \"fox\":\n",
    "        tmp = tmp[:-3]\n",
    "print(len(tmp))\n"
   ]
  },
  {
   "cell_type": "code",
   "execution_count": null,
   "metadata": {},
   "outputs": [],
   "source": []
  },
  {
   "cell_type": "code",
   "execution_count": null,
   "metadata": {},
   "outputs": [],
   "source": []
  }
 ],
 "metadata": {
  "kernelspec": {
   "display_name": "Python 3",
   "language": "python",
   "name": "python3"
  },
  "language_info": {
   "codemirror_mode": {
    "name": "ipython",
    "version": 3
   },
   "file_extension": ".py",
   "mimetype": "text/x-python",
   "name": "python",
   "nbconvert_exporter": "python",
   "pygments_lexer": "ipython3",
   "version": "3.7.4"
  }
 },
 "nbformat": 4,
 "nbformat_minor": 4
}
