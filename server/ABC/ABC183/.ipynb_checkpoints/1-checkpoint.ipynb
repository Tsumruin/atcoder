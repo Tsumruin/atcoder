{
 "cells": [
  {
   "cell_type": "code",
   "execution_count": null,
   "metadata": {},
   "outputs": [],
   "source": [
    "import math\n",
    "import numpy as np\n",
    "\n",
    "# 入力1つ\n",
    "x = int(input())\n",
    "print(x)\n",
    "\n",
    "# 横複数\n",
    "# x = list(map(int, input().split()))\n",
    "# print(x)\n",
    "\n",
    "# 縦入力複数\n",
    "rows = int(input())\n",
    "x = [int(input()) for i in range(rows)]\n",
    "print(x)\n",
    "\n",
    "# 縦よこ横入力複数\n",
    "rows = int(input())\n",
    "x = [list(map(int, input().split())) for i in range(rows)]\n",
    "print(x)"
   ]
  }
 ],
 "metadata": {
  "kernelspec": {
   "display_name": "Python 3",
   "language": "python",
   "name": "python3"
  },
  "language_info": {
   "codemirror_mode": {
    "name": "ipython",
    "version": 3
   },
   "file_extension": ".py",
   "mimetype": "text/x-python",
   "name": "python",
   "nbconvert_exporter": "python",
   "pygments_lexer": "ipython3",
   "version": "3.7.4"
  }
 },
 "nbformat": 4,
 "nbformat_minor": 4
}
