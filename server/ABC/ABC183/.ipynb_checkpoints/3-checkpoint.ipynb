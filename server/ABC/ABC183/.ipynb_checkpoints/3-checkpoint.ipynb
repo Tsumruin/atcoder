{
 "cells": [
  {
   "cell_type": "code",
   "execution_count": 16,
   "metadata": {},
   "outputs": [
    {
     "name": "stdout",
     "output_type": "stream",
     "text": [
      "[1, 2, 3, 0]\n",
      "[100   0   1  10]\n",
      "[ 20 200   1   0]\n",
      "[ 20   0 300  10]\n",
      "[100 200 300   0]\n",
      "\n",
      "\n",
      "[1, 3, 2, 0]\n",
      "[100   0   1  10]\n",
      "[  0  20 200   1]\n",
      "[  0 300  10  20]\n",
      "[100 200 300   0]\n",
      "\n",
      "\n",
      "[2, 1, 3, 0]\n",
      "[ 10 100   0   1]\n",
      "[200   1   0  20]\n",
      "[ 20   0 300  10]\n",
      "[100 200 300   0]\n",
      "\n",
      "\n",
      "[2, 3, 1, 0]\n",
      "[ 10 100   0   1]\n",
      "[  0  20 200   1]\n",
      "[300  10  20   0]\n",
      "[100 200 300   0]\n",
      "\n",
      "\n",
      "[3, 1, 2, 0]\n",
      "[  1  10 100   0]\n",
      "[200   1   0  20]\n",
      "[  0 300  10  20]\n",
      "[100 200 300   0]\n",
      "\n",
      "\n",
      "[3, 2, 1, 0]\n",
      "[  1  10 100   0]\n",
      "[ 20 200   1   0]\n",
      "[300  10  20   0]\n",
      "[100 200 300   0]\n",
      "\n",
      "\n",
      "1\n"
     ]
    }
   ],
   "source": [
    "import numpy as np\n",
    "import itertools\n",
    "\n",
    "# N, K = map(int, input().split())\n",
    "# T = [list(map(int, input().split())) for i in range(N)]\n",
    "\n",
    "count = 0\n",
    "\n",
    "C = [i for i in range(1, N)]\n",
    "C = list(itertools.permutations(C))\n",
    "for c in C:\n",
    "    c = list(c)\n",
    "    c.append(0)\n",
    "    print(c)\n",
    "\n",
    "    sum = 0\n",
    "\n",
    "    k=0\n",
    "    for i in c:\n",
    "        U = np.roll(T[k], i)\n",
    "        print(U)\n",
    "        sum += U[0]\n",
    "        k += 1\n",
    "    if sum == K:\n",
    "        count = count + 1\n",
    "    print(\"\\n\")\n",
    "        \n",
    "    \n",
    "            \n",
    "print(count)"
   ]
  },
  {
   "cell_type": "code",
   "execution_count": null,
   "metadata": {},
   "outputs": [],
   "source": []
  }
 ],
 "metadata": {
  "kernelspec": {
   "display_name": "Python 3",
   "language": "python",
   "name": "python3"
  },
  "language_info": {
   "codemirror_mode": {
    "name": "ipython",
    "version": 3
   },
   "file_extension": ".py",
   "mimetype": "text/x-python",
   "name": "python",
   "nbconvert_exporter": "python",
   "pygments_lexer": "ipython3",
   "version": "3.7.4"
  }
 },
 "nbformat": 4,
 "nbformat_minor": 4
}
